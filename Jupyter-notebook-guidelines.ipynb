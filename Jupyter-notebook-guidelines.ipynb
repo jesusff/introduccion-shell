{
 "cells": [
  {
   "cell_type": "markdown",
   "id": "76469ff4-2b24-4aeb-9c94-aa5a2e9bf78a",
   "metadata": {},
   "source": [
    "# Jupyter notebook guidelines\n",
    "\n",
    "_Jesús Fernández_ · Instituto de Física de Cantabria (IFCA), CSIC-Universidad de Cantabria\n",
    "\n",
    "These are guidelines to write Jupyter notebooks and other code with a common style to improve readability and reuse."
   ]
  },
  {
   "cell_type": "markdown",
   "id": "a152e71d-8c76-439d-8ce9-9549a594f66f",
   "metadata": {
    "tags": []
   },
   "source": [
    "## Notebook text\n",
    "\n",
    " * If you are not willing to write rich text explanations for your code, you better start coding a script rather than a notebook.\n",
    "     * It can always be converted later into a notebook\n",
    "     * Easier to develop and test\n",
    "     * Much lighter for the version control system (git)\n",
    " * Use hierarquical sectioning (`#`, `##`, `###`, ...) even if you don't like the size of the resulting headers.\n",
    "     * Do not skip section levels\n",
    "     * Choose meaningful section titles\n",
    "     * Take time to think of the titles. There is no rush.\n",
    "     * Do not repeat section titles in the same notebook (anchors are automatically created)\n",
    "     * Do not use section header markers for styling your text. Use **boldface**, _italics_, or `code` markers.\n",
    " * Do not enter comments in the code. Use the notebook rich text features\n",
    "     * You can refer to the `variables` and their meaning in the text"
   ]
  },
  {
   "cell_type": "markdown",
   "id": "befd8fbd-4e59-4f32-9533-ea1cb0af940b",
   "metadata": {},
   "source": [
    "## Notebook code\n",
    "\n",
    " * Load all required libraries at the top of your notebook/code\n",
    "     * Sort them alphabetically\n",
    " * Define all required parameters at the top of your notebook/code\n",
    "     * Parameters are just varibles that will not change along the code\n",
    "     * Never assign a parameter with other value in the middle of the code\n",
    "     * Parameterize your code as much as posible\n",
    "     * Avoid _magic numbers_ in the middle of your code\n",
    "         * Compute them from existing variables or assign a new one\n",
    " * Use meaninful and complete variable and function names\n",
    "     * Avoid shortnames easy to forget (`urban_th`? `urban_threshold`)\n",
    "     * Good variable/function names avoid a lot of code documentation\n",
    "     * Take time to think of the names. There is no rush.\n",
    " * Use functions\n",
    "     * They save from repeated coding\n",
    "     * Even if used just once:\n",
    "         * They hide complexity\n",
    "         * They improve readability and save documentation work\n",
    "     * Functions should solve simple, focused tasks\n",
    "     * Combine functions as necessary to accomplish complex tasks\n",
    " * Avoid fancy unnecessary language resources/libraries\n",
    "     * magrittr\n",
    "         * `my_data_frame %>% head` vs `head(my_data_frame)`\n",
    "     * list comprehension and lapply for simple loops not requiring a list as output\n",
    "         * use `for`\n",
    " * Avoid long lines. Keep them under 80 characters\n",
    " * Avoid absolute local paths (e.g. `/lustre/gmeteo/...`)\n",
    "     * They do not work for others\n",
    "     * You disclose internal paths\n",
    "     * Link them to your project folder and use relative paths\n",
    "     * Consider using rprojroot / pyprojroot"
   ]
  },
  {
   "cell_type": "markdown",
   "id": "e625fe0c-6470-4078-b330-4903e8e5a2b6",
   "metadata": {
    "tags": []
   },
   "source": [
    "## Notebook output\n",
    "\n",
    " * Avoid long outputs\n",
    "     * Redirect them\n",
    "     * Show just the head\n",
    "     * Write figures to disk instead of showing them all\n",
    " * Write figures to disk even if shown on the notebook\n",
    " * Cache the output of long calculations or calculations requiring huge input data\n",
    " * Try to produce publication-ready figures from the beggining\n",
    "     * Otherwise, figures can be hard to interpret or misinterpreted\n",
    "     * Choose appropriate colorbars\n",
    "         * Use simetric, divergent colobars for anomalies\n",
    "         * Do not use divergent colorbars for absolute values\n",
    "         * Reverse colorbars as necessary to respect warm/cold and wet/dry impression\n",
    "     * Choose common, appropriate colorbar ranges\n",
    "         * Burn extreme-valued areas as necessary to highlight your results\n",
    "         * Use nonlinear scales (only) if necessary\n",
    "     "
   ]
  },
  {
   "cell_type": "markdown",
   "id": "1d04f3d1-27a2-4496-a90e-71936b452b16",
   "metadata": {},
   "source": [
    "## Notebooks and git\n",
    "\n",
    " * Notebooks are plain text files (JSON). Keep them under version control\n",
    " * Images are text-encoded and take a lot of space\n",
    "    * Avoid having many images in your notebook\n",
    "    * Show low resolution images and save to disk (git-ignored) high resolution/vectorial versions\n",
    " * Always run the full notebook before commiting to the repository\n",
    "    * I.e. cells are numbered sequentially starting from 1\n",
    "    * Make sure it works as intended\n",
    " * Try to use the same environment for development\n",
    "    * Prevents unintended small version changes that will show up in your diffs\n",
    " * Try the jupyterlab-git plugin\n",
    "    * Nice diff feature\n",
    "    * Check for unintended changes before commiting\n",
    "    * Commit directly to your repository"
   ]
  }
 ],
 "metadata": {
  "kernelspec": {
   "display_name": "Python 3 (ipykernel)",
   "language": "python",
   "name": "python3"
  },
  "language_info": {
   "codemirror_mode": {
    "name": "ipython",
    "version": 3
   },
   "file_extension": ".py",
   "mimetype": "text/x-python",
   "name": "python",
   "nbconvert_exporter": "python",
   "pygments_lexer": "ipython3",
   "version": "3.9.13"
  }
 },
 "nbformat": 4,
 "nbformat_minor": 5
}
