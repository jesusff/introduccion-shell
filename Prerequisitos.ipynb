{
 "cells": [
  {
   "cell_type": "markdown",
   "metadata": {
    "slideshow": {
     "slide_type": "slide"
    }
   },
   "source": [
    "# Prerequisitos\n",
    "_Jesús Fernández (Universidad de Cantabria)_\n",
    "\n",
    "Jesus.Fernandez@unican.es\n",
    "\n",
    "30-sep-2019\n",
    "\n",
    "> Algunas instrucciones para poner a punto el gestor conda, git, bash y R en Windows(TM)"
   ]
  },
  {
   "cell_type": "markdown",
   "metadata": {
    "slideshow": {
     "slide_type": "skip"
    }
   },
   "source": [
    "## GitBash en Windows\n",
    "\n",
    "Se descarga de https://gitforwindows.org\n",
    "\n",
    "Aquí hay unas instrucciones para instalar gitBash: https://www.earthdatascience.org/workshops/setup-earth-analytics-python/setup-git-bash-anaconda/, pero el punto clave es elegir \"Use Git from the Windows Command Prompt\" al instalar gitBash"
   ]
  },
  {
   "cell_type": "markdown",
   "metadata": {
    "slideshow": {
     "slide_type": "slide"
    }
   },
   "source": [
    "## Miniconda\n",
    "\n",
    "Descargarlo de http://conda.pydata.org/miniconda.html\n",
    "\n",
    "Hay también instrucciones en https://www.earthdatascience.org/workshops/setup-earth-analytics-python/setup-git-bash-anaconda, pero el único punto clave es \"Add Anaconda to my PATH environment variable\" al instalar.\n",
    "\n",
    "Después de instalar miniconda, meterlo en el PATH de GitBash para poder usarlo. Cuidado con las rutas con espacios en blanco:\n",
    "https://stackoverflow.com/questions/54501167/anaconda-and-git-bash-in-windows-conda-command-not-found\n",
    "\n"
   ]
  },
  {
   "cell_type": "markdown",
   "metadata": {
    "slideshow": {
     "slide_type": "subslide"
    }
   },
   "source": [
    "## Activar conda base al iniciar sesión\n",
    "\n",
    "Incluir en .bashrc:\n",
    "```\n",
    "source /opt/conda/etc/profile.d/conda.sh\n",
    "conda activate\n",
    "```"
   ]
  },
  {
   "cell_type": "markdown",
   "metadata": {
    "slideshow": {
     "slide_type": "slide"
    }
   },
   "source": [
    "## La bash de msys2 en Windows\n",
    "Se puede instalar con conda:\n",
    "```\n",
    "conda install -c msys2 m2-base m2-curl m2-unzip\n",
    "```"
   ]
  },
  {
   "cell_type": "markdown",
   "metadata": {
    "slideshow": {
     "slide_type": "slide"
    }
   },
   "source": [
    "## Instalar R\n",
    "\n",
    "```\n",
    "conda install -c r r-base\n",
    "```\n",
    "También está Rstudio\n",
    "```\n",
    "conda install -c r rstudio\n",
    "```"
   ]
  },
  {
   "cell_type": "markdown",
   "metadata": {
    "slideshow": {
     "slide_type": "subslide"
    }
   },
   "source": [
    "### Incluir el kernel de R en Jupyter\n",
    "\n",
    "Desde dentro de R instalamos los siguientes paquetes:\n",
    "\n",
    "```\n",
    "install.packages(c('repr', 'IRdisplay', 'evaluate', 'crayon', 'pbdZMQ', 'devtools', 'uuid', 'digest'))\n",
    "``` \n",
    "\n",
    "Instalamos el kernel de R desde github:\n",
    "```\n",
    "devtools::install_github('IRkernel/IRkernel')\n",
    "```\n",
    "Y lo hacemos visible desde Jupyter con:\n",
    "```\n",
    "IRkernel::installspec()\n",
    "```"
   ]
  },
  {
   "cell_type": "markdown",
   "metadata": {
    "slideshow": {
     "slide_type": "subslide"
    }
   },
   "source": [
    "Desde la terminal ya nos indica que está instalado:\n",
    "```\n",
    "jupyter kernelspec list\n",
    "\n",
    "Available kernels:\n",
    "  ir         C:\\Users\\docencia\\AppData\\Roaming\\jupyter\\kernels\\ir\n",
    "  python3    C:\\Users\\docencia\\jff\\Miniconda3\\share\\jupyter\\kernels\\python3\n",
    "```\n",
    "Si estabas ejecutando Jupyter, actualiza la ventana del navegador."
   ]
  },
  {
   "cell_type": "markdown",
   "metadata": {
    "slideshow": {
     "slide_type": "slide"
    }
   },
   "source": [
    "## Incluir el kernel de Bash\n",
    "\n",
    "Sólo va en python3\n",
    "```\n",
    "pip install bash_kernel\n",
    "python -m bash_kernel.install\n",
    "```"
   ]
  },
  {
   "cell_type": "markdown",
   "metadata": {
    "slideshow": {
     "slide_type": "slide"
    }
   },
   "source": [
    "## Instalar interfaz RISE para presentaciones\n",
    "```\n",
    "conda install -c conda-forge rise\n",
    "```"
   ]
  },
  {
   "cell_type": "markdown",
   "metadata": {
    "slideshow": {
     "slide_type": "skip"
    }
   },
   "source": [
    "## Guardar notebooks en PDF\n",
    "\n",
    "Hace falta latex y nbconvert (no funciona...)\n",
    "```\n",
    "conda install nbconvert texlive-core\n",
    "```"
   ]
  }
 ],
 "metadata": {
  "celltoolbar": "Slideshow",
  "kernelspec": {
   "display_name": "Bash",
   "language": "bash",
   "name": "bash"
  },
  "language_info": {
   "codemirror_mode": "shell",
   "file_extension": ".sh",
   "mimetype": "text/x-sh",
   "name": "bash"
  }
 },
 "nbformat": 4,
 "nbformat_minor": 2
}
