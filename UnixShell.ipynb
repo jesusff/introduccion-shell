{
 "cells": [
  {
   "cell_type": "markdown",
   "metadata": {
    "slideshow": {
     "slide_type": "slide"
    }
   },
   "source": [
    "# La terminal de Unix\n",
    "_Jesús Fernández (Universidad de Cantabria)_\n",
    "\n",
    "Jesus.Fernandez@unican.es\n",
    "\n",
    "30-sep-2020\n",
    "\n",
    "> Introducción básica al uso de la terminal de Unix usando la __bash__ shell"
   ]
  },
  {
   "cell_type": "markdown",
   "metadata": {
    "slideshow": {
     "slide_type": "slide"
    }
   },
   "source": [
    "## ¿Por qué la terminal?\n",
    "\n",
    " * ¿Es más rápido el ratón que el teclado?\n",
    " * Muchas cosas en programación dependen de ella (instalación de software)\n",
    " * Se aprende sobre ordenadores (sistema de ficheros, dispositivos, ...)\n",
    " * Acceso a superordenadores\n",
    " * Muchos comandos de lenguajes de programación tienen que ver con comandos de shell (ls, grep, ...)\n",
    " * Composición de pequeñas tareas. Nos acostumbra a combinar herramientas existentes y modularizar el código"
   ]
  },
  {
   "cell_type": "markdown",
   "metadata": {
    "slideshow": {
     "slide_type": "slide"
    }
   },
   "source": [
    "## Filosofía Unix\n",
    "\n",
    "Doug McIlroy (inventor de los _pipes_ de Unix y uno de los fundadores de la tradición Unix):\n",
    "> This is the Unix philosophy: Write programs that do one thing and do it well. Write programs to work together. Write programs to handle text streams, because that is a universal interface.\n",
    "\n",
    "http://www.catb.org/~esr/writings/taoup/html/ch01s06.html"
   ]
  },
  {
   "cell_type": "markdown",
   "metadata": {
    "slideshow": {
     "slide_type": "slide"
    }
   },
   "source": [
    "# Moverse por el sistema\n",
    "\n",
    "Las rutas en Unix"
   ]
  },
  {
   "cell_type": "code",
   "execution_count": 4,
   "metadata": {
    "scrolled": true,
    "slideshow": {
     "slide_type": "-"
    }
   },
   "outputs": [
    {
     "name": "stdout",
     "output_type": "stream",
     "text": [
      "/home/jovyan\n"
     ]
    }
   ],
   "source": [
    "pwd"
   ]
  },
  {
   "cell_type": "markdown",
   "metadata": {
    "slideshow": {
     "slide_type": "fragment"
    }
   },
   "source": [
    "Trabajaremos con el árbol de directorios de http://swcarpentry.github.io/shell-novice/data/data-shell.zip\n",
    "    "
   ]
  },
  {
   "cell_type": "code",
   "execution_count": 1,
   "metadata": {
    "slideshow": {
     "slide_type": "-"
    }
   },
   "outputs": [
    {
     "name": "stdout",
     "output_type": "stream",
     "text": [
      "  % Total    % Received % Xferd  Average Speed   Time    Time     Time  Current\n",
      "                                 Dload  Upload   Total   Spent    Left  Speed\n",
      "100  566k  100  566k    0     0   591k      0 --:--:-- --:--:-- --:--:--  590k\n"
     ]
    }
   ],
   "source": [
    "# wget http://swcarpentry.github.io/shell-novice/data/data-shell.zip\n",
    "curl http://swcarpentry.github.io/shell-novice/data/data-shell.zip --output data-shell.zip\n",
    "unzip -q data-shell.zip"
   ]
  },
  {
   "cell_type": "markdown",
   "metadata": {
    "slideshow": {
     "slide_type": "slide"
    }
   },
   "source": [
    "Cambiar de directorio (cd, cd -) y listar su contenido (ls)"
   ]
  },
  {
   "cell_type": "code",
   "execution_count": 2,
   "metadata": {},
   "outputs": [
    {
     "name": "stdout",
     "output_type": "stream",
     "text": [
      "\u001b[0m\u001b[01;34mcreatures\u001b[0m  \u001b[01;34mmolecules\u001b[0m           notes.txt  solar.pdf\n",
      "\u001b[01;34mdata\u001b[0m       \u001b[01;34mnorth-pacific-gyre\u001b[0m  pizza.cfg  \u001b[01;34mwriting\u001b[0m\n"
     ]
    }
   ],
   "source": [
    "cd data-shell\n",
    "ls"
   ]
  },
  {
   "cell_type": "markdown",
   "metadata": {
    "slideshow": {
     "slide_type": "slide"
    }
   },
   "source": [
    "Opciones y comodines\n",
    "```\n",
    "  ls -l -S -h -r -t\n",
    "  ls -lhtr\n",
    "  ls -l --block-size=K\n",
    "  ls -w 50 molecules\n",
    "  ls *.pdf\n",
    "  ls [ps]*\n",
    "  ls *o?e*\n",
    "```"
   ]
  },
  {
   "cell_type": "markdown",
   "metadata": {
    "slideshow": {
     "slide_type": "slide"
    }
   },
   "source": [
    "## Obtener ayuda\n",
    "\n",
    "```man comando```: no disponible en GitBash / m2-base\n",
    "\n",
    "```comando --help``` es una opción común en casi todos los comandos"
   ]
  },
  {
   "cell_type": "markdown",
   "metadata": {
    "slideshow": {
     "slide_type": "slide"
    }
   },
   "source": [
    "## Manipular ficheros y directorios (mkdir, mv, cp, rm y rmdir)"
   ]
  },
  {
   "cell_type": "markdown",
   "metadata": {
    "slideshow": {
     "slide_type": "slide"
    }
   },
   "source": [
    "## Encontrar ficheros (find)\n",
    "```\n",
    "find . -type d\n",
    "find . -type f\n",
    "find . -type f -name '*.txt'\n",
    "find . -type f -name '*.dat' -mtime -1\n",
    "find . -type f -empty\n",
    "find . -type f -size +10k\n",
    "\n",
    "```"
   ]
  },
  {
   "cell_type": "markdown",
   "metadata": {
    "slideshow": {
     "slide_type": "slide"
    }
   },
   "source": [
    "## Editar texto\n",
    "\n",
    " * vi(m)\n",
    " * nano\n",
    " * En el propio Jupyter\n",
    "\n",
    "Ver el contenido del fichero de ejemplo con el que vamos a trabajar\n",
    "```\n",
    "cat data/pdb/cholesterol.pdb\n",
    "```\n",
    "\n",
    "**Objetivo:** Renombrar los ficheros pdb añadiendo cuantos átomos de H, C y O tiene cada molécula. E.g. cholesterol_C27H46O.pdb\n",
    "        "
   ]
  },
  {
   "cell_type": "markdown",
   "metadata": {
    "slideshow": {
     "slide_type": "slide"
    }
   },
   "source": [
    "## Comandos útiles para trabajar con texto\n",
    "```\n",
    "        cat data/pdb/cholesterol.pdb\n",
    "        more data/pdb/cholesterol.pdb\n",
    "        less data/pdb/cholesterol.pdb\n",
    "        wc data/pdb/cholesterol.pdb\n",
    "        head data/pdb/cholesterol.pdb\n",
    "        tail data/pdb/cholesterol.pdb\n",
    "        sed -n -e '2p' data/pdb/cholesterol.pdb\n",
    "        sed -e '3,7s/C/H/' data/pdb/cholesterol.pdb\n",
    "        sed -e '1d' data/pdb/cholesterol.pdb\n",
    "        sed -e '1iNUEVA MOLECULA' data/pdb/cholesterol.pdb\n",
    "        grep ATOM data/pdb/cholesterol.pdb\n",
    "        awk '/ATOM/{print $3,$5}' data/pdb/cholesterol.pdb\n",
    "```"
   ]
  },
  {
   "cell_type": "markdown",
   "metadata": {
    "slideshow": {
     "slide_type": "slide"
    }
   },
   "source": [
    "Hay muchas formas de hacer lo mismo:\n",
    "```\n",
    "sed -e 's/.*,\\(.*\\),.*/\\1/' data/animal-counts/animals.txt\n",
    "```"
   ]
  },
  {
   "cell_type": "markdown",
   "metadata": {
    "slideshow": {
     "slide_type": "fragment"
    }
   },
   "source": [
    "```\n",
    "awk -F, '{print $2}' data/animal-counts/animals.txt\n",
    "```"
   ]
  },
  {
   "cell_type": "code",
   "execution_count": 15,
   "metadata": {
    "slideshow": {
     "slide_type": "fragment"
    }
   },
   "outputs": [
    {
     "name": "stdout",
     "output_type": "stream",
     "text": [
      "deer\n",
      "rabbit\n",
      "raccoon\n",
      "rabbit\n",
      "deer\n",
      "fox\n",
      "rabbit\n",
      "bear\n"
     ]
    }
   ],
   "source": [
    "cut -d, -f2 data/animal-counts/animals.txt"
   ]
  },
  {
   "cell_type": "markdown",
   "metadata": {
    "slideshow": {
     "slide_type": "slide"
    }
   },
   "source": [
    "## Redirección y _pipes_\n",
    "\n",
    "### Entrada/salida estándar y de error\n",
    "\n",
    "```\n",
    "comando 1> out.std 2> out.err \n",
    "comando  > out.std\n",
    "comando  > out.std 2>&1\n",
    "comando >& out.stdyerr\n",
    "comando >> fichero\n",
    "comando < fichero\n",
    "comando << clave\n",
    "comando <<< \"here document\"\n",
    "```\n",
    "\n",
    "### Pipes (tuberías)\n",
    "Permiten conectar la salida estándar de un comando con la entrada del siguiente:\n",
    "```\n",
    "comando1 | comando2\n",
    "```"
   ]
  },
  {
   "cell_type": "markdown",
   "metadata": {
    "slideshow": {
     "slide_type": "slide"
    }
   },
   "source": [
    "## Programar en bash\n",
    "        Shebang\n",
    "        Comentarios\n",
    "        variables\n",
    "        echo\n",
    "        argumentos posicionales\n",
    "        $()\n",
    "        for, if\n",
    "        funciones"
   ]
  },
  {
   "cell_type": "markdown",
   "metadata": {
    "slideshow": {
     "slide_type": "slide"
    }
   },
   "source": [
    "## Permisos (chmod)\n",
    "    "
   ]
  },
  {
   "cell_type": "markdown",
   "metadata": {
    "slideshow": {
     "slide_type": "slide"
    }
   },
   "source": [
    "## El entorno de ejecución (export, .bashrc, PATH, which, alias, type)"
   ]
  },
  {
   "cell_type": "markdown",
   "metadata": {
    "slideshow": {
     "slide_type": "slide"
    }
   },
   "source": [
    "## Empaquetar ficheros con _tar_"
   ]
  }
 ],
 "metadata": {
  "celltoolbar": "Slideshow",
  "kernelspec": {
   "display_name": "Bash",
   "language": "bash",
   "name": "bash"
  },
  "language_info": {
   "codemirror_mode": "shell",
   "file_extension": ".sh",
   "mimetype": "text/x-sh",
   "name": "bash"
  }
 },
 "nbformat": 4,
 "nbformat_minor": 2
}
