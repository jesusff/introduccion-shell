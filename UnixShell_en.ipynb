{
 "cells": [
  {
   "cell_type": "markdown",
   "metadata": {
    "editable": true,
    "slideshow": {
     "slide_type": "slide"
    },
    "tags": []
   },
   "source": [
    "# The Unix terminal\n",
    "\n",
    "*Jesús Fernández* (Instituto de Física de Cantabria, CSIC-UC)\n",
    "\n",
    "1-oct-2024\n",
    "\n",
    "> Basic introduction to the Unix terminal using the __bash__ shell"
   ]
  },
  {
   "cell_type": "markdown",
   "metadata": {
    "slideshow": {
     "slide_type": "slide"
    }
   },
   "source": [
    "## Why using the terminal?\n",
    "\n",
    " * Is the mouse really faster than the keyboard?\n",
    " * Many programming tasks depend on it (software installation)\n",
    " * Helps learning about computers (filesystems, devices, etc.)\n",
    " * Provides access to supercomputers\n",
    " * Many commands in other programming languages derive from shell commands (ls, grep, ...)\n",
    " * Task composition. It gets us used to combine tools and modularize our code"
   ]
  },
  {
   "cell_type": "markdown",
   "metadata": {
    "slideshow": {
     "slide_type": "slide"
    }
   },
   "source": [
    "## Unix philosophy\n",
    "\n",
    "Doug McIlroy (inventor of the Unix pipes and one of the founders of Unix tradition):\n",
    "> This is the Unix philosophy: Write programs that do one thing and do it well. Write programs to work together. Write programs to handle text streams, because that is a universal interface.\n",
    "\n",
    "http://www.catb.org/~esr/writings/taoup/html/ch01s06.html"
   ]
  },
  {
   "cell_type": "markdown",
   "metadata": {
    "slideshow": {
     "slide_type": "slide"
    }
   },
   "source": [
    "## Walk through the system\n",
    "\n",
    "The Unix path uses slashes to locate directories and files in the filesystem. We can start by **p**rinting the **w**orking **d**irectory."
   ]
  },
  {
   "cell_type": "code",
   "execution_count": 1,
   "metadata": {
    "scrolled": true,
    "slideshow": {
     "slide_type": "-"
    }
   },
   "outputs": [
    {
     "name": "stdout",
     "output_type": "stream",
     "text": [
      "/home/jovyan/introduccion-shell\n"
     ]
    }
   ],
   "source": [
    "pwd"
   ]
  },
  {
   "cell_type": "markdown",
   "metadata": {
    "slideshow": {
     "slide_type": "slide"
    }
   },
   "source": [
    "## Download a common file structure\n",
    "\n",
    "We will share a common directory tree, provided by this Software Carpentry course:<br>\n",
    "https://raw.githubusercontent.com/swcarpentry/shell-novice/f32646f/data/shell-lesson-data.zip   "
   ]
  },
  {
   "cell_type": "code",
   "execution_count": 2,
   "metadata": {
    "slideshow": {
     "slide_type": "-"
    },
    "tags": []
   },
   "outputs": [
    {
     "name": "stdout",
     "output_type": "stream",
     "text": [
      "--2024-10-01 10:10:10--  https://raw.githubusercontent.com/swcarpentry/shell-novice/f32646f/data/shell-lesson-data.zip\n",
      "Resolving raw.githubusercontent.com (raw.githubusercontent.com)... 185.199.111.133, 185.199.108.133, 185.199.109.133, ...\n",
      "Connecting to raw.githubusercontent.com (raw.githubusercontent.com)|185.199.111.133|:443... connected.\n",
      "HTTP request sent, awaiting response... 200 OK\n",
      "Length: 583281 (570K) [application/zip]\n",
      "Saving to: ‘shell-lesson-data.zip’\n",
      "\n",
      "shell-lesson-data.z 100%[===================>] 569.61K  --.-KB/s    in 0.08s   \n",
      "\n",
      "2024-10-01 10:10:10 (6.62 MB/s) - ‘shell-lesson-data.zip’ saved [583281/583281]\n",
      "\n"
     ]
    }
   ],
   "source": [
    "wget https://raw.githubusercontent.com/swcarpentry/shell-novice/f32646f/data/shell-lesson-data.zip\n",
    "unzip -q shell-lesson-data.zip"
   ]
  },
  {
   "cell_type": "markdown",
   "metadata": {
    "slideshow": {
     "slide_type": "slide"
    }
   },
   "source": [
    "Let's **c**hange **d**irectory to a common one and **l**i**s**t its contents"
   ]
  },
  {
   "cell_type": "code",
   "execution_count": 3,
   "metadata": {},
   "outputs": [
    {
     "name": "stdout",
     "output_type": "stream",
     "text": [
      "creatures  molecules           notes.txt    pizza.cfg  writing\n",
      "data       north-pacific-gyre  numbers.txt  solar.pdf\n"
     ]
    }
   ],
   "source": [
    "cd shell-lesson-data\n",
    "ls"
   ]
  },
  {
   "cell_type": "markdown",
   "metadata": {
    "slideshow": {
     "slide_type": "slide"
    }
   },
   "source": [
    "## Command arguments, flags (options), and wildcards\n",
    "\n",
    "```bash\n",
    "  ls -l -h -r -t\n",
    "  ls -lhtr\n",
    "  ls -l --block-size=K\n",
    "  ls -w 50 molecules\n",
    "  ls *.txt\n",
    "  ls [pw]*\n",
    "  ls ?r*\n",
    "```"
   ]
  },
  {
   "cell_type": "markdown",
   "metadata": {
    "slideshow": {
     "slide_type": "slide"
    }
   },
   "source": [
    "## Getting help\n",
    "\n",
    "```man <command>```: manual page for command (not available in GitBash / m2-base / binder)\n",
    "\n",
    "```<command> --help``` is an option available in most commands"
   ]
  },
  {
   "cell_type": "markdown",
   "metadata": {
    "slideshow": {
     "slide_type": "slide"
    }
   },
   "source": [
    "## Managing files and directories (mkdir, mv, cp, rm y rmdir)"
   ]
  },
  {
   "cell_type": "code",
   "execution_count": 4,
   "metadata": {
    "slideshow": {
     "slide_type": "fragment"
    },
    "tags": []
   },
   "outputs": [],
   "source": [
    "rm ../shell-lesson-data.zip"
   ]
  },
  {
   "cell_type": "markdown",
   "metadata": {
    "editable": true,
    "slideshow": {
     "slide_type": "slide"
    },
    "tags": []
   },
   "source": [
    "## **find**ing files\n",
    "\n",
    "```bash\n",
    "find . -type d\n",
    "find . -type f\n",
    "find . -type f -name '*.txt'\n",
    "find . -type f -name '*.dat' -mtime -1\n",
    "find . -type f -empty\n",
    "find . -type f -size +10k\n",
    "\n",
    "```"
   ]
  },
  {
   "cell_type": "markdown",
   "metadata": {
    "editable": true,
    "slideshow": {
     "slide_type": "fragment"
    },
    "tags": []
   },
   "source": [
    "<div class=\"alert alert-block alert-info\">\n",
    "<b>Exercise</b><br/>\n",
    "Find all text files (.txt extension) smaller than 10 KB and that start with letter \"a\"\n",
    "</div>"
   ]
  },
  {
   "cell_type": "markdown",
   "metadata": {
    "editable": true,
    "jp-MarkdownHeadingCollapsed": true,
    "slideshow": {
     "slide_type": "slide"
    },
    "tags": []
   },
   "source": [
    "## Edit text\n",
    "\n",
    " * vi(m)\n",
    " * nano\n",
    " * Jupyter text editor\n",
    "\n",
    "Often, you just need to see the contents of a file; no need to use an editor for that:\n",
    "```bash\n",
    "cat molecules/octane.pdb\n",
    "```        "
   ]
  },
  {
   "cell_type": "markdown",
   "metadata": {
    "editable": true,
    "slideshow": {
     "slide_type": "slide"
    },
    "tags": []
   },
   "source": [
    "## Some useful commands to work with text\n",
    "\n",
    "```bash\n",
    "        cat data/pdb/cholesterol.pdb\n",
    "        more data/pdb/cholesterol.pdb\n",
    "        head data/pdb/cholesterol.pdb\n",
    "        tail data/pdb/cholesterol.pdb\n",
    "        wc data/pdb/cholesterol.pdb\n",
    "        sed -n -e '2p' data/pdb/cholesterol.pdb\n",
    "        sed -e '3,7s/C/H/' data/pdb/cholesterol.pdb\n",
    "        sed -e '1d' data/pdb/cholesterol.pdb\n",
    "        sed -e '1iNUEVA MOLECULA' data/pdb/cholesterol.pdb\n",
    "        grep ATOM data/pdb/cholesterol.pdb\n",
    "        awk '/ATOM/{print $3,$5}' data/pdb/cholesterol.pdb\n",
    "```"
   ]
  },
  {
   "cell_type": "markdown",
   "metadata": {
    "editable": true,
    "slideshow": {
     "slide_type": "fragment"
    },
    "tags": []
   },
   "source": [
    "<div class=\"alert alert-block alert-info\">\n",
    "<b>Exercise</b><br/>\n",
    "Execute these commands and find out what they do\n",
    "</div>"
   ]
  },
  {
   "cell_type": "markdown",
   "metadata": {
    "editable": true,
    "slideshow": {
     "slide_type": "slide"
    },
    "tags": []
   },
   "source": [
    "There are many ways to accomplish a given task:\n",
    "```bash\n",
    "sed -e 's/.*,\\(.*\\),.*/\\1/' data/animal-counts/animals.txt\n",
    "```"
   ]
  },
  {
   "cell_type": "markdown",
   "metadata": {
    "editable": true,
    "slideshow": {
     "slide_type": "fragment"
    },
    "tags": []
   },
   "source": [
    "```bash\n",
    "awk -F, '{print $2}' data/animal-counts/animals.txt\n",
    "```"
   ]
  },
  {
   "cell_type": "code",
   "execution_count": 5,
   "metadata": {
    "editable": true,
    "slideshow": {
     "slide_type": "fragment"
    },
    "tags": []
   },
   "outputs": [
    {
     "name": "stdout",
     "output_type": "stream",
     "text": [
      "deer\n",
      "rabbit\n",
      "raccoon\n",
      "rabbit\n",
      "deer\n",
      "fox\n",
      "rabbit\n",
      "bear\n"
     ]
    }
   ],
   "source": [
    "cut -d, -f2 data/animal-counts/animals.txt"
   ]
  },
  {
   "cell_type": "markdown",
   "metadata": {
    "slideshow": {
     "slide_type": "slide"
    }
   },
   "source": [
    "## Redirection and pipes\n",
    "\n",
    "### Standard I/O and error\n",
    "\n",
    "```bash\n",
    "command 1> out.std 2> out.err \n",
    "command  > out.std\n",
    "command  > out.std 2>&1\n",
    "command >& out.stdyerr\n",
    "command >> filename\n",
    "command < filename\n",
    "command << keyword\n",
    "text\n",
    "keyword\n",
    "command <<< \"here document\"\n",
    "```"
   ]
  },
  {
   "cell_type": "markdown",
   "metadata": {
    "slideshow": {
     "slide_type": "slide"
    }
   },
   "source": [
    "### Pipes\n",
    "Pipes connect the standard output of a command to the standard input of another command:\n",
    "```bash\n",
    "command1 | command2\n",
    "```"
   ]
  },
  {
   "cell_type": "markdown",
   "metadata": {
    "slideshow": {
     "slide_type": "fragment"
    }
   },
   "source": [
    "<div class=\"alert alert-block alert-info\">\n",
    "<b>Exercise</b><br/>\n",
    "    Rename all pdb files in <b>data/pdb</b>, adding the H, C and O atom count. E.g. <b>octane_C8H18.pdb</b>\n",
    "</div>"
   ]
  },
  {
   "cell_type": "markdown",
   "metadata": {
    "editable": true,
    "slideshow": {
     "slide_type": "slide"
    },
    "tags": []
   },
   "source": [
    "## Programming in bash\n",
    "If you are executing more than just a simple command, bash instructions are better written to a script (plain text file with the sequence of commands). Bash is a complete programming language.\n",
    "\n",
    "```\n",
    "Shebang   (#!/bin/bash)\n",
    "Comments  (# Line is not executed)\n",
    "variables (myvar=7       # /!\\ No spaces around the \"=\")\n",
    "echo      (echo ${myvar} # Show the content of myvar)\n",
    "positional arguments (myscript.sh arg1 arg2)\n",
    "$()\n",
    "for, if\n",
    "functions (function myfun() {commands} )\n",
    "```"
   ]
  },
  {
   "cell_type": "markdown",
   "metadata": {
    "editable": true,
    "slideshow": {
     "slide_type": "slide"
    },
    "tags": []
   },
   "source": [
    "## Permissions (chmod)\n",
    "\n",
    "UNIX file and directory permissions are shown when issuing any long (`-l`) listing of files:"
   ]
  },
  {
   "cell_type": "code",
   "execution_count": 6,
   "metadata": {
    "editable": true,
    "slideshow": {
     "slide_type": ""
    },
    "tags": []
   },
   "outputs": [
    {
     "name": "stdout",
     "output_type": "stream",
     "text": [
      "total 56\n",
      "drwxrwsr-x 2 jovyan users  4096 Jul 30  2021 creatures\n",
      "drwxrwsr-x 5 jovyan users  4096 Jul 30  2021 data\n",
      "drwxrwsr-x 2 jovyan users  4096 Jul 30  2021 molecules\n",
      "drwxrwsr-x 3 jovyan users  4096 Jul 30  2021 north-pacific-gyre\n",
      "-rw-rw-r-- 1 jovyan users    86 Jul 30  2021 notes.txt\n",
      "-rw-rw-r-- 1 jovyan users    13 Aug  4  2021 numbers.txt\n",
      "-rw-rw-r-- 1 jovyan users    32 Jul 30  2021 pizza.cfg\n",
      "-rw-rw-r-- 1 jovyan users 21583 Jul 30  2021 solar.pdf\n",
      "drwxrwsr-x 5 jovyan users  4096 Jul 30  2021 writing\n"
     ]
    }
   ],
   "source": [
    "ls -l"
   ]
  },
  {
   "cell_type": "markdown",
   "metadata": {
    "editable": true,
    "slideshow": {
     "slide_type": "slide"
    },
    "tags": []
   },
   "source": [
    "For example, `numbers.txt` belogs to the user `jovyan` and to the group `users`. The permission string `rw-rw-r--` is a 9-character string showing subsequently the permissions for the **u**ser (`rw-`: read, write, not executable), the **g**roup (`rw-`: read, write, not executable) and **o**thers (`r--`: just read permission)"
   ]
  },
  {
   "cell_type": "markdown",
   "metadata": {
    "editable": true,
    "slideshow": {
     "slide_type": ""
    },
    "tags": []
   },
   "source": [
    "They can be adjusted with the `chmod` command. Different syntaxes can be used with this command. For instance, to remove write permission to the group and all permissions to others, one could issue:    "
   ]
  },
  {
   "cell_type": "code",
   "execution_count": 7,
   "metadata": {
    "editable": true,
    "slideshow": {
     "slide_type": "fragment"
    },
    "tags": []
   },
   "outputs": [
    {
     "name": "stdout",
     "output_type": "stream",
     "text": [
      "-rw-r----- 1 jovyan users 13 Aug  4  2021 numbers.txt\n"
     ]
    }
   ],
   "source": [
    "chmod g-w,o-r numbers.txt\n",
    "ls -l numbers.txt"
   ]
  },
  {
   "cell_type": "markdown",
   "metadata": {
    "editable": true,
    "slideshow": {
     "slide_type": "fragment"
    },
    "tags": []
   },
   "source": [
    "Or, to bring back the old permissions, we could use:"
   ]
  },
  {
   "cell_type": "code",
   "execution_count": 8,
   "metadata": {
    "editable": true,
    "slideshow": {
     "slide_type": ""
    },
    "tags": []
   },
   "outputs": [
    {
     "name": "stdout",
     "output_type": "stream",
     "text": [
      "-rw-rw-r-- 1 jovyan users 13 Aug  4  2021 numbers.txt\n"
     ]
    }
   ],
   "source": [
    "chmod 664 numbers.txt\n",
    "ls -l numbers.txt"
   ]
  },
  {
   "cell_type": "markdown",
   "metadata": {
    "editable": true,
    "slideshow": {
     "slide_type": "slide"
    },
    "tags": []
   },
   "source": [
    "## Execution environment (export, .bashrc, PATH, which, alias, type)"
   ]
  }
 ],
 "metadata": {
  "celltoolbar": "Slideshow",
  "kernelspec": {
   "display_name": "Bash",
   "language": "bash",
   "name": "bash"
  },
  "language_info": {
   "codemirror_mode": "shell",
   "file_extension": ".sh",
   "mimetype": "text/x-sh",
   "name": "bash"
  },
  "rise": {
   "enable_chalkboard": true,
   "theme": "solarized"
  }
 },
 "nbformat": 4,
 "nbformat_minor": 4
}
