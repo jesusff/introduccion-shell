{
 "cells": [
  {
   "cell_type": "markdown",
   "metadata": {
    "slideshow": {
     "slide_type": "slide"
    },
    "tags": []
   },
   "source": [
    "# The Unix terminal\n",
    "\n",
    "*Jesús Fernández* (Instituto de Física de Cantabria, CSIC-UC)\n",
    "\n",
    "30-sep-2022\n",
    "\n",
    "> Basic introduction to the Unix terminal using the __bash__ shell"
   ]
  },
  {
   "cell_type": "markdown",
   "metadata": {
    "slideshow": {
     "slide_type": "slide"
    }
   },
   "source": [
    "## Why using the terminal?\n",
    "\n",
    " * Is the mouse really faster than the keyboard?\n",
    " * Many programming tasks depend on it (software installation)\n",
    " * Helps learning about computers (filesystems, devices, etc.)\n",
    " * Provides access to supercomputers\n",
    " * Many commands in other programming languages derive from shell commands (ls, grep, ...)\n",
    " * Task composition. It gets us used to combine tools and modularize our code"
   ]
  },
  {
   "cell_type": "markdown",
   "metadata": {
    "slideshow": {
     "slide_type": "slide"
    }
   },
   "source": [
    "## Unix philosophy\n",
    "\n",
    "Doug McIlroy (inventor of the Unix pipes and one of the founders of Unix tradition):\n",
    "> This is the Unix philosophy: Write programs that do one thing and do it well. Write programs to work together. Write programs to handle text streams, because that is a universal interface.\n",
    "\n",
    "http://www.catb.org/~esr/writings/taoup/html/ch01s06.html"
   ]
  },
  {
   "cell_type": "markdown",
   "metadata": {
    "slideshow": {
     "slide_type": "slide"
    }
   },
   "source": [
    "## Walk through the system\n",
    "\n",
    "The Unix path uses slashes to locate diectories and files in the filesystem. We can start by **p**rinting the **w**orking **d**irectory."
   ]
  },
  {
   "cell_type": "code",
   "execution_count": 1,
   "metadata": {
    "scrolled": true,
    "slideshow": {
     "slide_type": "-"
    }
   },
   "outputs": [
    {
     "name": "stdout",
     "output_type": "stream",
     "text": [
      "/home/jovyan/introduccion-shell\n"
     ]
    }
   ],
   "source": [
    "pwd"
   ]
  },
  {
   "cell_type": "markdown",
   "metadata": {
    "slideshow": {
     "slide_type": "slide"
    }
   },
   "source": [
    "## Download a common file structure\n",
    "\n",
    "We will share a common directory tree, provided by this Software Carpentry course:<br>\n",
    "https://swcarpentry.github.io/shell-novice/data/shell-lesson-data.zip    "
   ]
  },
  {
   "cell_type": "code",
   "execution_count": 2,
   "metadata": {
    "slideshow": {
     "slide_type": "-"
    },
    "tags": []
   },
   "outputs": [
    {
     "name": "stdout",
     "output_type": "stream",
     "text": [
      "--2022-09-30 16:17:57--  https://swcarpentry.github.io/shell-novice/data/shell-lesson-data.zip\n",
      "Resolving swcarpentry.github.io (swcarpentry.github.io)... 185.199.111.153, 185.199.110.153, 185.199.109.153, ...\n",
      "Connecting to swcarpentry.github.io (swcarpentry.github.io)|185.199.111.153|:443... connected.\n",
      "HTTP request sent, awaiting response... 200 OK\n",
      "Length: 460303 (450K) [application/zip]\n",
      "Saving to: ‘shell-lesson-data.zip’\n",
      "\n",
      "shell-lesson-data.z 100%[===================>] 449.51K  --.-KB/s    in 0.04s   \n",
      "\n",
      "2022-09-30 16:17:57 (10.6 MB/s) - ‘shell-lesson-data.zip’ saved [460303/460303]\n",
      "\n"
     ]
    }
   ],
   "source": [
    "wget https://swcarpentry.github.io/shell-novice/data/shell-lesson-data.zip\n",
    "unzip -q shell-lesson-data.zip"
   ]
  },
  {
   "cell_type": "markdown",
   "metadata": {
    "slideshow": {
     "slide_type": "slide"
    }
   },
   "source": [
    "Let's **c**hange **d**irectory to a common one and **l**i**s**t its contents"
   ]
  },
  {
   "cell_type": "code",
   "execution_count": 3,
   "metadata": {},
   "outputs": [
    {
     "name": "stdout",
     "output_type": "stream",
     "text": [
      "alkanes  animal-counts  creatures  numbers.txt  writing\n"
     ]
    }
   ],
   "source": [
    "cd shell-lesson-data/exercise-data\n",
    "ls"
   ]
  },
  {
   "cell_type": "markdown",
   "metadata": {
    "slideshow": {
     "slide_type": "slide"
    }
   },
   "source": [
    "## Command arguments, flags (options), and wildcards\n",
    "\n",
    "```bash\n",
    "  ls -l -h -r -t\n",
    "  ls -lhtr\n",
    "  ls -l --block-size=K\n",
    "  ls -w 50 alkanes\n",
    "  ls *.txt\n",
    "  ls [pw]*\n",
    "  ls ?r*\n",
    "```"
   ]
  },
  {
   "cell_type": "markdown",
   "metadata": {
    "slideshow": {
     "slide_type": "slide"
    }
   },
   "source": [
    "## Getting help\n",
    "\n",
    "```man <command>```: manual page for command (not available in GitBash / m2-base / binder)\n",
    "\n",
    "```<command> --help``` is an option available in most commands"
   ]
  },
  {
   "cell_type": "markdown",
   "metadata": {
    "slideshow": {
     "slide_type": "slide"
    }
   },
   "source": [
    "## Managing files and directories (mkdir, mv, cp, rm y rmdir)"
   ]
  },
  {
   "cell_type": "code",
   "execution_count": 4,
   "metadata": {
    "slideshow": {
     "slide_type": "fragment"
    },
    "tags": []
   },
   "outputs": [],
   "source": [
    "rm ../../shell-lesson-data.zip"
   ]
  },
  {
   "cell_type": "markdown",
   "metadata": {
    "slideshow": {
     "slide_type": "slide"
    }
   },
   "source": [
    "## **find**ing files\n",
    "\n",
    "```bash\n",
    "find . -type d\n",
    "find . -type f\n",
    "find . -type f -name '*.txt'\n",
    "find . -type f -name '*.dat' -mtime -1\n",
    "find . -type f -empty\n",
    "find . -type f -size +10k\n",
    "\n",
    "```"
   ]
  },
  {
   "cell_type": "markdown",
   "metadata": {
    "slideshow": {
     "slide_type": "fragment"
    }
   },
   "source": [
    "<div class=\"alert alert-block alert-info\">\n",
    "<b>Exercise</b><br/>\n",
    "Find all text files (.txt extension) smaller than 10 KB and that start with letter \"a\"\n",
    "</div>"
   ]
  },
  {
   "cell_type": "markdown",
   "metadata": {
    "slideshow": {
     "slide_type": "slide"
    }
   },
   "source": [
    "## Edit text\n",
    "\n",
    " * vi(m)\n",
    " * nano\n",
    " * Jupyter text editor\n",
    "\n",
    "Often, you just need to see the contents of a file; no need to use an editor for that:\n",
    "```bash\n",
    "cat alkanes/octane.pdb\n",
    "```        "
   ]
  },
  {
   "cell_type": "markdown",
   "metadata": {
    "slideshow": {
     "slide_type": "slide"
    }
   },
   "source": [
    "## Some useful commands to work with text\n",
    "\n",
    "```bash\n",
    "        cat alkanes/octane.pdb\n",
    "        more alkanes/octane.pdb\n",
    "        head alkanes/octane.pdb\n",
    "        tail alkanes/octane.pdb\n",
    "        wc alkanes/octane.pdb\n",
    "        sed -n -e '2p' alkanes/octane.pdb\n",
    "        sed -e '3,7s/C/H/' alkanes/octane.pdb\n",
    "        sed -e '1d' alkanes/octane.pdb\n",
    "        sed -e '1iNUEVA MOLECULA' alkanes/octane.pdb\n",
    "        grep ATOM alkanes/octane.pdb\n",
    "        awk '/ATOM/{print $3,$5}' alkanes/octane.pdb\n",
    "```"
   ]
  },
  {
   "cell_type": "markdown",
   "metadata": {
    "slideshow": {
     "slide_type": "fragment"
    }
   },
   "source": [
    "<div class=\"alert alert-block alert-info\">\n",
    "<b>Exercise</b><br/>\n",
    "Execute these commands and find out what they do\n",
    "</div>"
   ]
  },
  {
   "cell_type": "markdown",
   "metadata": {
    "slideshow": {
     "slide_type": "slide"
    }
   },
   "source": [
    "There are many ways to accomplish a given task:\n",
    "```bash\n",
    "sed -e 's/.*,\\(.*\\),.*/\\1/' animal-counts/animals.csv\n",
    "```"
   ]
  },
  {
   "cell_type": "markdown",
   "metadata": {
    "slideshow": {
     "slide_type": "fragment"
    }
   },
   "source": [
    "```bash\n",
    "awk -F, '{print $2}' animal-counts/animals.csv\n",
    "```"
   ]
  },
  {
   "cell_type": "code",
   "execution_count": 5,
   "metadata": {
    "slideshow": {
     "slide_type": "fragment"
    }
   },
   "outputs": [
    {
     "name": "stdout",
     "output_type": "stream",
     "text": [
      "deer\n",
      "rabbit\n",
      "raccoon\n",
      "rabbit\n",
      "deer\n",
      "fox\n",
      "rabbit\n",
      "bear\n"
     ]
    }
   ],
   "source": [
    "cut -d, -f2 animal-counts/animals.csv"
   ]
  },
  {
   "cell_type": "markdown",
   "metadata": {
    "slideshow": {
     "slide_type": "slide"
    }
   },
   "source": [
    "## Redirection and pipes\n",
    "\n",
    "### Standard I/O and error\n",
    "\n",
    "```bash\n",
    "command 1> out.std 2> out.err \n",
    "command  > out.std\n",
    "command  > out.std 2>&1\n",
    "command >& out.stdyerr\n",
    "command >> filename\n",
    "command < filename\n",
    "command << keyword\n",
    "text\n",
    "keyword\n",
    "command <<< \"here document\"\n",
    "```"
   ]
  },
  {
   "cell_type": "markdown",
   "metadata": {
    "slideshow": {
     "slide_type": "slide"
    }
   },
   "source": [
    "### Pipes\n",
    "Pipes connect the standard output of a command to the standard input of another command:\n",
    "```bash\n",
    "command1 | command2\n",
    "```"
   ]
  },
  {
   "cell_type": "markdown",
   "metadata": {
    "slideshow": {
     "slide_type": "fragment"
    }
   },
   "source": [
    "<div class=\"alert alert-block alert-info\">\n",
    "<b>Exercise</b><br/>\n",
    "    Rename all pdb files in <b>alkanes</b>, adding the H, C and O atom count. E.g. <b>octane_C8H18.pdb</b>\n",
    "</div>"
   ]
  },
  {
   "cell_type": "markdown",
   "metadata": {
    "slideshow": {
     "slide_type": "slide"
    }
   },
   "source": [
    "## Programming in bash\n",
    "\n",
    "```\n",
    "Shebang\n",
    "Comments\n",
    "variables\n",
    "echo\n",
    "positional arguments\n",
    "$()\n",
    "for, if\n",
    "functions\n",
    "```"
   ]
  },
  {
   "cell_type": "markdown",
   "metadata": {
    "slideshow": {
     "slide_type": "slide"
    }
   },
   "source": [
    "## Permissions (chmod)\n",
    "    "
   ]
  },
  {
   "cell_type": "markdown",
   "metadata": {
    "slideshow": {
     "slide_type": "slide"
    }
   },
   "source": [
    "## Execution environment (export, .bashrc, PATH, which, alias, type)"
   ]
  }
 ],
 "metadata": {
  "celltoolbar": "Slideshow",
  "kernelspec": {
   "display_name": "Bash",
   "language": "bash",
   "name": "bash"
  },
  "language_info": {
   "codemirror_mode": "shell",
   "file_extension": ".sh",
   "mimetype": "text/x-sh",
   "name": "bash"
  },
  "rise": {
   "enable_chalkboard": true,
   "theme": "solarized"
  }
 },
 "nbformat": 4,
 "nbformat_minor": 4
}
